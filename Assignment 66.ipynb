{
 "cells": [
  {
   "cell_type": "markdown",
   "id": "0716af07",
   "metadata": {},
   "source": [
    "# Q1. What is hierarchical clustering, and how is it different from other clustering techniques?"
   ]
  },
  {
   "cell_type": "markdown",
   "id": "1de78584",
   "metadata": {},
   "source": [
    "# ans .. hierarchical clustering is not need tochoose the  centroid  this algo is firstly choose nearst point nad then the fare point  and this prosece repeat again and again"
   ]
  },
  {
   "cell_type": "markdown",
   "id": "c64efd25",
   "metadata": {},
   "source": [
    "# Q2. What are the two main types of hierarchical clustering algorithms? Describe each in brief."
   ]
  },
  {
   "cell_type": "markdown",
   "id": "e47568b5",
   "metadata": {},
   "source": [
    "# ans.. hierarchical are twwo type of cluster agglomerative and secand divisive  both are the measure cluster aglo\n"
   ]
  },
  {
   "cell_type": "markdown",
   "id": "6f3c5f75",
   "metadata": {},
   "source": [
    "# Q3. How do you determine the distance between two clusters in hierarchical clustering, and what are the common distance metrics used?"
   ]
  },
  {
   "cell_type": "markdown",
   "id": "d9fcb0c9",
   "metadata": {},
   "source": [
    "# ans..For most common hierarchical clustering software, the default distance measure is the Euclidean distance."
   ]
  },
  {
   "cell_type": "markdown",
   "id": "c0ebe4b5",
   "metadata": {},
   "source": [
    "# Q4. How do you determine the optimal number of clusters in hierarchical clustering, and what are some common methods used for this purpose?"
   ]
  },
  {
   "cell_type": "markdown",
   "id": "254cc2eb",
   "metadata": {},
   "source": [
    "# To get the optimal number of clusters for hierarchical clustering, we make use a dendrogram which is tree-like chart that shows the sequences of merges or splits of clusters"
   ]
  },
  {
   "cell_type": "markdown",
   "id": "69e27381",
   "metadata": {},
   "source": [
    "# Q5. What are dendrograms in hierarchical clustering, and how are they useful in analyzing the results?"
   ]
  },
  {
   "cell_type": "markdown",
   "id": "247a869e",
   "metadata": {},
   "source": [
    "# ans.. dendrograms is basicaly is  cluster of nearest point and again cluster the second nearest point same procese repate again and again "
   ]
  },
  {
   "cell_type": "markdown",
   "id": "688de9e3",
   "metadata": {},
   "source": [
    "# Q6. Can hierarchical clustering be used for both numerical and categorical data? If yes, how are the distance metrics different for each type of data?"
   ]
  },
  {
   "cell_type": "markdown",
   "id": "d3fea9f7",
   "metadata": {},
   "source": [
    "# Most distance metrics, and hence the hierarchical clustering methods, work either with continuous-only or categorical-only data."
   ]
  },
  {
   "cell_type": "markdown",
   "id": "51c2dd09",
   "metadata": {},
   "source": [
    "# Q7. How can you use hierarchical clustering to identify outliers or anomalies in your data?"
   ]
  },
  {
   "cell_type": "markdown",
   "id": "2ed970e1",
   "metadata": {},
   "source": [
    "# by using dendrogram outliers are found. The goal of the project is to detect the outlier and remove the outliers to make the clustering more reliable."
   ]
  },
  {
   "cell_type": "code",
   "execution_count": null,
   "id": "ff3579d1",
   "metadata": {},
   "outputs": [],
   "source": []
  }
 ],
 "metadata": {
  "kernelspec": {
   "display_name": "Python 3 (ipykernel)",
   "language": "python",
   "name": "python3"
  },
  "language_info": {
   "codemirror_mode": {
    "name": "ipython",
    "version": 3
   },
   "file_extension": ".py",
   "mimetype": "text/x-python",
   "name": "python",
   "nbconvert_exporter": "python",
   "pygments_lexer": "ipython3",
   "version": "3.10.9"
  }
 },
 "nbformat": 4,
 "nbformat_minor": 5
}
